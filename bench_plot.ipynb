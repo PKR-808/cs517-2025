{
 "cells": [
  {
   "cell_type": "code",
   "execution_count": null,
   "metadata": {},
   "outputs": [],
   "source": [
    "import pandas as pd, matplotlib.pyplot as plt\n",
    "\n",
    "df = pd.read_csv(\"bench.csv\")\n",
    "# 1️⃣  n  vs  solve‑time  (median over reps, fixed val_delta=0.10, slots=16)\n",
    "g = (df.query(\"val_delta==0.10 and slots==16\")\n",
    "       .groupby(\"n\")[\"time_sec\"].median())\n",
    "plt.figure(); g.plot(marker=\"o\"); plt.xlabel(\"Track universe size n\")\n",
    "plt.ylabel(\"Solve time (s)\"); plt.title(\"Solve time vs n\"); plt.grid(True)\n",
    "\n",
    "# 2️⃣  val_delta vs solve‑time  (n=80, slots=16)\n",
    "g = (df.query(\"n==80 and slots==16\")\n",
    "       .groupby(\"val_delta\")[\"time_sec\"].median())\n",
    "plt.figure(); g.plot(marker=\"o\"); plt.xlabel(\"Valence jump Δ\")\n",
    "plt.ylabel(\"Solve time (s)\"); plt.title(\"Solve time vs Δ\"); plt.grid(True)\n",
    "\n",
    "# 3️⃣  slots vs solve‑time  (n=80, Δ=0.10)\n",
    "g = (df.query(\"n==80 and val_delta==0.10\")\n",
    "       .groupby(\"slots\")[\"time_sec\"].median())\n",
    "plt.figure(); g.plot(marker=\"o\"); plt.xlabel(\"Max slots\")\n",
    "plt.ylabel(\"Solve time (s)\"); plt.title(\"Solve time vs playlist length\")\n",
    "plt.grid(True)\n",
    "\n",
    "plt.show()\n"
   ]
  }
 ],
 "metadata": {
  "language_info": {
   "name": "python"
  }
 },
 "nbformat": 4,
 "nbformat_minor": 2
}
